{
 "cells": [
  {
   "cell_type": "markdown",
   "id": "perfect-option",
   "metadata": {
    "slideshow": {
     "slide_type": "slide"
    }
   },
   "source": [
    "# Installation"
   ]
  },
  {
   "cell_type": "markdown",
   "id": "affecting-martial",
   "metadata": {
    "slideshow": {
     "slide_type": "subslide"
    }
   },
   "source": [
    "1. Sympy is pre-installed in **Anaconda** and **Active Python** distribution."
   ]
  },
  {
   "cell_type": "markdown",
   "id": "threaded-pendant",
   "metadata": {
    "slideshow": {
     "slide_type": "subslide"
    }
   },
   "source": [
    "2. From git\n",
    "\n",
    "* **Clone** it from the link https://github.com/sympy/sympy.git\n",
    "\n",
    "```\n",
    "\n",
    "$ git clone https://github.com/sympy/sympy.git\n",
    "\n",
    "$ git pull origin master\n",
    "\n",
    "$ python setupegg.py develop\n",
    "    \n",
    "```\n"
   ]
  },
  {
   "cell_type": "markdown",
   "id": "cathedral-textbook",
   "metadata": {
    "slideshow": {
     "slide_type": "subslide"
    }
   },
   "source": [
    "3. Using package installer PIP\n",
    "\n",
    "```\n",
    "$ pip install sympy\n",
    "\n",
    "```"
   ]
  },
  {
   "cell_type": "markdown",
   "id": "joint-myanmar",
   "metadata": {
    "slideshow": {
     "slide_type": "subslide"
    }
   },
   "source": [
    "For more information on installation process, visit the official page of [sympy installation](https://docs.sympy.org/latest/install.html)"
   ]
  },
  {
   "cell_type": "markdown",
   "id": "imported-differential",
   "metadata": {
    "slideshow": {
     "slide_type": "slide"
    }
   },
   "source": [
    "# Defining Symbols"
   ]
  },
  {
   "cell_type": "markdown",
   "id": "mature-accommodation",
   "metadata": {
    "slideshow": {
     "slide_type": "subslide"
    }
   },
   "source": [
    "Given an expression $y = x + 5$ .\n",
    "\n",
    "To execute the same in the python.\n"
   ]
  },
  {
   "cell_type": "code",
   "execution_count": null,
   "id": "nearby-moses",
   "metadata": {
    "slideshow": {
     "slide_type": "subslide"
    }
   },
   "outputs": [],
   "source": [
    "y = x + 5\n",
    "print(y)"
   ]
  },
  {
   "cell_type": "code",
   "execution_count": null,
   "id": "fifteen-buying",
   "metadata": {
    "slideshow": {
     "slide_type": "fragment"
    }
   },
   "outputs": [],
   "source": [
    "x = 6\n",
    "y = x + 5\n",
    "print(f'Type of x is {type(x).__name__}')\n",
    "print(y)"
   ]
  },
  {
   "cell_type": "code",
   "execution_count": null,
   "id": "prepared-spring",
   "metadata": {
    "slideshow": {
     "slide_type": "subslide"
    }
   },
   "outputs": [],
   "source": [
    "from sympy import Symbol\n",
    "\n",
    "x = Symbol('x')"
   ]
  },
  {
   "cell_type": "code",
   "execution_count": null,
   "id": "original-optimum",
   "metadata": {
    "slideshow": {
     "slide_type": "fragment"
    }
   },
   "outputs": [],
   "source": [
    "type(x).__name__"
   ]
  },
  {
   "cell_type": "code",
   "execution_count": null,
   "id": "decimal-filter",
   "metadata": {
    "slideshow": {
     "slide_type": "fragment"
    }
   },
   "outputs": [],
   "source": [
    "y = x + 5\n",
    "\n",
    "y"
   ]
  },
  {
   "cell_type": "markdown",
   "id": "flush-polymer",
   "metadata": {
    "slideshow": {
     "slide_type": "slide"
    }
   },
   "source": [
    "## Different ways of declaring symbols"
   ]
  },
  {
   "cell_type": "code",
   "execution_count": null,
   "id": "appropriate-spanish",
   "metadata": {
    "slideshow": {
     "slide_type": "subslide"
    }
   },
   "outputs": [],
   "source": [
    "# Defining a single symbol\n",
    "\n",
    "from sympy import Symbol\n",
    "\n",
    "x = Symbol('x')\n",
    "\n",
    "x"
   ]
  },
  {
   "cell_type": "code",
   "execution_count": null,
   "id": "parliamentary-arlington",
   "metadata": {
    "slideshow": {
     "slide_type": "subslide"
    }
   },
   "outputs": [],
   "source": [
    "# Multiple symbols in one line of code\n",
    "\n",
    "from sympy import symbols\n",
    "\n",
    "x , y = symbols('x y')\n",
    "\n",
    "print(f'y is a type of {type(y).__name__}')\n",
    "print(f'x is a type of {type(x).__name__}') "
   ]
  },
  {
   "cell_type": "code",
   "execution_count": null,
   "id": "private-theory",
   "metadata": {
    "slideshow": {
     "slide_type": "subslide"
    }
   },
   "outputs": [],
   "source": [
    "# importing inbuilt symbols from the sympy library\n",
    "\n",
    "from sympy.abc import a,b\n",
    "\n",
    "print(f'a is a type of {type(a).__name__}')\n",
    "print(f'b is a type of {type(b).__name__}')"
   ]
  },
  {
   "cell_type": "code",
   "execution_count": null,
   "id": "scenic-crazy",
   "metadata": {
    "slideshow": {
     "slide_type": "subslide"
    }
   },
   "outputs": [],
   "source": [
    "from sympy import abc\n",
    "\n",
    "print(dir(abc))"
   ]
  },
  {
   "cell_type": "markdown",
   "id": "sunset-ordering",
   "metadata": {
    "slideshow": {
     "slide_type": "subslide"
    }
   },
   "source": [
    "# Attention ⚠️"
   ]
  },
  {
   "cell_type": "code",
   "execution_count": null,
   "id": "nuclear-collectible",
   "metadata": {
    "slideshow": {
     "slide_type": "fragment"
    }
   },
   "outputs": [],
   "source": [
    "from sympy import pi\n",
    "# from sympy.abc import pi\n",
    "\n",
    "print(type(pi).__name__)\n",
    "\n",
    "(pi*pi).evalf()"
   ]
  },
  {
   "cell_type": "code",
   "execution_count": null,
   "id": "elegant-cylinder",
   "metadata": {
    "slideshow": {
     "slide_type": "fragment"
    }
   },
   "outputs": [],
   "source": [
    "print(abc._clash)"
   ]
  },
  {
   "cell_type": "markdown",
   "id": "respective-timing",
   "metadata": {
    "slideshow": {
     "slide_type": "subslide"
    }
   },
   "source": [
    "## To declare series of variable $ ( x0, x1, x2 ) $"
   ]
  },
  {
   "cell_type": "code",
   "execution_count": null,
   "id": "moral-niger",
   "metadata": {
    "slideshow": {
     "slide_type": "subslide"
    }
   },
   "outputs": [],
   "source": [
    "x0, x1, x2 = symbols('x0 x1 x2')\n",
    "\n",
    "x0"
   ]
  },
  {
   "cell_type": "code",
   "execution_count": null,
   "id": "impressed-theory",
   "metadata": {
    "slideshow": {
     "slide_type": "fragment"
    }
   },
   "outputs": [],
   "source": [
    "x = symbols('x0:30')\n",
    "\n",
    "x"
   ]
  },
  {
   "cell_type": "code",
   "execution_count": null,
   "id": "cooperative-poland",
   "metadata": {
    "slideshow": {
     "slide_type": "subslide"
    }
   },
   "outputs": [],
   "source": [
    "x, y = symbols(('x','y0:10'))\n",
    "# print(x)\n",
    "print(y)"
   ]
  },
  {
   "cell_type": "code",
   "execution_count": null,
   "id": "outstanding-deadline",
   "metadata": {
    "slideshow": {
     "slide_type": "subslide"
    }
   },
   "outputs": [],
   "source": [
    "x = symbols('xa:c')\n",
    "\n",
    "x"
   ]
  },
  {
   "cell_type": "markdown",
   "id": "qualified-scheduling",
   "metadata": {
    "slideshow": {
     "slide_type": "subslide"
    }
   },
   "source": [
    "## Exercise Questions\n",
    "\n",
    "1. Generate symbols x8 to x10\n",
    "2. Create symbols m, n0 to n5, zc to zd  in a single line of code"
   ]
  },
  {
   "cell_type": "code",
   "execution_count": null,
   "id": "emerging-delaware",
   "metadata": {
    "slideshow": {
     "slide_type": "fragment"
    }
   },
   "outputs": [],
   "source": [
    " "
   ]
  },
  {
   "cell_type": "markdown",
   "id": "headed-facing",
   "metadata": {
    "slideshow": {
     "slide_type": "slide"
    }
   },
   "source": [
    "# Algebraic Manipulation"
   ]
  },
  {
   "cell_type": "markdown",
   "id": "close-admission",
   "metadata": {
    "slideshow": {
     "slide_type": "subslide"
    }
   },
   "source": [
    "### Evaluating an expression $ x^2+3$"
   ]
  },
  {
   "cell_type": "code",
   "execution_count": null,
   "id": "civilian-principle",
   "metadata": {
    "slideshow": {
     "slide_type": "subslide"
    }
   },
   "outputs": [],
   "source": [
    "# in sympy\n",
    "\n",
    "from sympy import Symbol\n",
    "\n",
    "x = Symbol('x')\n",
    "\n",
    "exp = x**2+3\n",
    "\n",
    "exp"
   ]
  },
  {
   "cell_type": "code",
   "execution_count": null,
   "id": "growing-headline",
   "metadata": {
    "slideshow": {
     "slide_type": "fragment"
    }
   },
   "outputs": [],
   "source": [
    "exp.subs(x,2)"
   ]
  },
  {
   "cell_type": "markdown",
   "id": "static-incentive",
   "metadata": {
    "slideshow": {
     "slide_type": "subslide"
    }
   },
   "source": [
    "$ x = a^2 + b $"
   ]
  },
  {
   "cell_type": "code",
   "execution_count": null,
   "id": "democratic-motorcycle",
   "metadata": {
    "slideshow": {
     "slide_type": "fragment"
    }
   },
   "outputs": [],
   "source": [
    "exp = a**2 + b\n",
    "\n",
    "exp.subs({a:2, b:1})  "
   ]
  },
  {
   "cell_type": "markdown",
   "id": "postal-powder",
   "metadata": {
    "slideshow": {
     "slide_type": "fragment"
    }
   },
   "source": [
    "To assign more than one variables, Use dictionary\n",
    "\n",
    "{a:2, b:1}"
   ]
  },
  {
   "cell_type": "markdown",
   "id": "complimentary-improvement",
   "metadata": {
    "slideshow": {
     "slide_type": "subslide"
    }
   },
   "source": [
    "# Expand algebraic expression \n",
    "\n",
    "$(a+b)^2 = a^2 + 2ab + b^2$"
   ]
  },
  {
   "cell_type": "markdown",
   "id": "voluntary-grain",
   "metadata": {
    "slideshow": {
     "slide_type": "subslide"
    }
   },
   "source": [
    "Using the expand function"
   ]
  },
  {
   "cell_type": "code",
   "execution_count": null,
   "id": "illegal-characterization",
   "metadata": {
    "slideshow": {
     "slide_type": "subslide"
    }
   },
   "outputs": [],
   "source": [
    "from sympy import expand\n",
    "from sympy.abc import a,b\n",
    "\n",
    "exp = (a+b)**2\n",
    "\n",
    "# exp\n",
    "expand(exp)"
   ]
  },
  {
   "cell_type": "markdown",
   "id": "cardiovascular-decrease",
   "metadata": {
    "slideshow": {
     "slide_type": "subslide"
    }
   },
   "source": [
    "$ sin(A+B) = sin(A) cos(B) + cos(A) sin(B) $"
   ]
  },
  {
   "cell_type": "code",
   "execution_count": null,
   "id": "perfect-miracle",
   "metadata": {
    "slideshow": {
     "slide_type": "fragment"
    }
   },
   "outputs": [],
   "source": [
    "from sympy import sin\n",
    "from sympy.abc import A,B\n",
    "\n",
    "exp = sin(A+B)\n",
    "\n",
    "expand(exp)"
   ]
  },
  {
   "cell_type": "code",
   "execution_count": null,
   "id": "composite-disclaimer",
   "metadata": {
    "slideshow": {
     "slide_type": "subslide"
    }
   },
   "outputs": [],
   "source": [
    "from sympy import sin, cos, tan\n",
    "from sympy.abc import A,B\n",
    "\n",
    "exp = sin(A+B)\n",
    "\n",
    "expand(exp, trig=True) # to evaluate trignometry pass hint trig=True"
   ]
  },
  {
   "cell_type": "markdown",
   "id": "instrumental-apartment",
   "metadata": {
    "slideshow": {
     "slide_type": "subslide"
    }
   },
   "source": [
    "## Exercise Questions\n",
    "\n",
    "1. Calculate the expanded form of $(a+b)^4$\n",
    "2. Simplify the trigonometric expression $ sin(x) / cos(x) $"
   ]
  },
  {
   "cell_type": "code",
   "execution_count": null,
   "id": "understood-tours",
   "metadata": {
    "slideshow": {
     "slide_type": "fragment"
    }
   },
   "outputs": [],
   "source": []
  },
  {
   "cell_type": "markdown",
   "id": "neither-crown",
   "metadata": {
    "slideshow": {
     "slide_type": "slide"
    }
   },
   "source": [
    "# Solving Quadratic Equations"
   ]
  },
  {
   "cell_type": "markdown",
   "id": "smooth-fighter",
   "metadata": {
    "slideshow": {
     "slide_type": "subslide"
    }
   },
   "source": [
    "$ x^2 - 44x + 123 = 0$"
   ]
  },
  {
   "cell_type": "code",
   "execution_count": null,
   "id": "decent-greeting",
   "metadata": {
    "slideshow": {
     "slide_type": "fragment"
    }
   },
   "outputs": [],
   "source": [
    "from sympy import solve\n",
    "from sympy.abc import x,y\n",
    "\n",
    "exp = x**2 - 44*x + 123\n",
    "\n",
    "solve(exp)"
   ]
  },
  {
   "cell_type": "markdown",
   "id": "mineral-world",
   "metadata": {
    "slideshow": {
     "slide_type": "subslide"
    }
   },
   "source": [
    "Inequalities\n",
    "\n",
    "$ x^2 - 44x + 123 < 0$"
   ]
  },
  {
   "cell_type": "code",
   "execution_count": null,
   "id": "rolled-consortium",
   "metadata": {
    "slideshow": {
     "slide_type": "fragment"
    }
   },
   "outputs": [],
   "source": [
    "exp = x**2 -44*x + 123\n",
    "\n",
    "print(solve(exp < 0))\n",
    "solve(exp < 0)"
   ]
  },
  {
   "cell_type": "markdown",
   "id": "solved-eligibility",
   "metadata": {
    "slideshow": {
     "slide_type": "subslide"
    }
   },
   "source": [
    "$ x^2 - 44x + 123 >= 0$"
   ]
  },
  {
   "cell_type": "code",
   "execution_count": null,
   "id": "industrial-interaction",
   "metadata": {
    "slideshow": {
     "slide_type": "subslide"
    }
   },
   "outputs": [],
   "source": [
    "exp = x**2 -44*x + 123\n",
    "\n",
    "print(solve(exp >= 0))\n",
    "solve(exp >= 0)"
   ]
  },
  {
   "cell_type": "markdown",
   "id": "joint-compound",
   "metadata": {
    "slideshow": {
     "slide_type": "subslide"
    }
   },
   "source": [
    "# Solving Linear Equations"
   ]
  },
  {
   "cell_type": "markdown",
   "id": "systematic-little",
   "metadata": {
    "slideshow": {
     "slide_type": "subslide"
    }
   },
   "source": [
    "$x + 2y = 5 $\n",
    " \n",
    "$x + 3y = 10$\n"
   ]
  },
  {
   "cell_type": "code",
   "execution_count": null,
   "id": "suited-jacket",
   "metadata": {
    "slideshow": {
     "slide_type": "fragment"
    }
   },
   "outputs": [],
   "source": [
    "from sympy.abc import x,y\n",
    "from sympy import solve\n",
    "\n",
    "e1 = x - 2*y - 5\n",
    "e2 = x + 3*y -10\n",
    "\n",
    "solve((e1,e2))"
   ]
  },
  {
   "cell_type": "markdown",
   "id": "daily-sullivan",
   "metadata": {
    "slideshow": {
     "slide_type": "slide"
    }
   },
   "source": [
    "# Solving Logical Expressions"
   ]
  },
  {
   "cell_type": "markdown",
   "id": "professional-agenda",
   "metadata": {
    "slideshow": {
     "slide_type": "subslide"
    }
   },
   "source": [
    "We know how to solve basic logic gates in python."
   ]
  },
  {
   "cell_type": "code",
   "execution_count": null,
   "id": "apart-approach",
   "metadata": {
    "slideshow": {
     "slide_type": "subslide"
    }
   },
   "outputs": [],
   "source": [
    "# For Example And Gate\n",
    "\n",
    "print(\"      And Gate  \")\n",
    "print(\"----------------------\")\n",
    "print(\"|  a  |  b  | output |\")\n",
    "print(\"----------------------\")\n",
    "print(f'|  0  |  0  |   { 0 & 0 }    |')\n",
    "print(f'|  0  |  1  |   { 0 & 1 }    |')\n",
    "print(f'|  1  |  0  |   { 1 & 0 }    |')\n",
    "print(f'|  1  |  1  |   { 1 & 1 }    |')\n",
    "print(\"----------------------\")"
   ]
  },
  {
   "cell_type": "code",
   "execution_count": null,
   "id": "dirty-reset",
   "metadata": {
    "slideshow": {
     "slide_type": "subslide"
    }
   },
   "outputs": [],
   "source": [
    "# For Example XOR Gate\n",
    "\n",
    "print(\"      XOR Gate  \")\n",
    "print(\"----------------------\")\n",
    "print(\"|  a  |  b  | output |\")\n",
    "print(\"----------------------\")\n",
    "print(f'|  0  |  0  |   { 0 ^ 0 }    |')\n",
    "print(f'|  0  |  1  |   { 0 ^ 1 }    |')\n",
    "print(f'|  1  |  0  |   { 1 ^ 0 }    |')\n",
    "print(f'|  1  |  1  |   { 1 ^ 1 }    |') \n",
    "print(\"----------------------\")"
   ]
  },
  {
   "cell_type": "markdown",
   "id": "imported-grocery",
   "metadata": {
    "slideshow": {
     "slide_type": "subslide"
    }
   },
   "source": [
    "$ AND : a & b $\n",
    "\n",
    "OR : a | b \n",
    "\n",
    " NOT : ~a \n",
    "\n",
    "$ NAND : ~(a & b) $\n",
    "\n",
    "XOR : a ^ b "
   ]
  },
  {
   "cell_type": "markdown",
   "id": "monetary-black",
   "metadata": {
    "slideshow": {
     "slide_type": "subslide"
    }
   },
   "source": [
    "## Full Adder\n",
    "\n",
    "\n",
    "| a | b | c | sum | c_out |\n",
    "| :--: | :--: | :--: | :--: | :--: |\n",
    "| 0 | 0 | 0 | 0 | 0 |\n",
    "| 0 | 0 | 1 | 1 | 0 |\n",
    "| 0 | 1 | 0 | 1 | 0 |\n",
    "| 0 | 1 | 1 | 0 | 1 |\n",
    "| 1 | 0 | 0 | 1 | 0 |\n",
    "| 1 | 0 | 1 | 0 | 1 |\n",
    "| 1 | 1 | 0 | 0 | 1 |\n",
    "| 1 | 1 | 1 | 1 | 1 |"
   ]
  },
  {
   "cell_type": "markdown",
   "id": "bearing-actor",
   "metadata": {
    "slideshow": {
     "slide_type": "subslide"
    }
   },
   "source": [
    "## SUM OF PRODUCTS"
   ]
  },
  {
   "cell_type": "code",
   "execution_count": null,
   "id": "secondary-cedar",
   "metadata": {
    "slideshow": {
     "slide_type": "subslide"
    }
   },
   "outputs": [],
   "source": [
    "from sympy.logic import SOPform # SUM OF PRODUCTS\n",
    "from sympy.abc import a,b,c\n",
    "\n",
    "minterms_sum = [\n",
    "    [0,0,1], [0,1,0], [1,0,0], [1,1,1]\n",
    "]\n",
    "\n",
    "minterms_cout = [\n",
    "    [0,1,1], [1,0,1], [1,1,0], [1,1,1]\n",
    "]\n",
    "\n",
    "sum = SOPform([a,b,c],minterms_sum)\n",
    "cout = SOPform([a,b,c],minterms_cout)\n",
    "\n",
    "\n",
    "print(f'sum = {sum}')\n",
    "print(f'C_out = {cout}')"
   ]
  },
  {
   "cell_type": "code",
   "execution_count": null,
   "id": "adjustable-tuesday",
   "metadata": {
    "slideshow": {
     "slide_type": "subslide"
    }
   },
   "outputs": [],
   "source": [
    "from sympy.logic import SOPform  # SUM OF PRODUCTS\n",
    "from sympy.abc import a,b,c\n",
    "\n",
    "minterms_sum = [1, 2, 4, 7]\n",
    "\n",
    "minterms_cout = [3, 5, 6, 7]\n",
    "\n",
    "sum = SOPform([a,b,c], minterms_sum)\n",
    "cout = SOPform([a,b,c], minterms_cout) \n",
    "\n",
    "\n",
    "print(f'sum = {sum}')\n",
    "print(f'C_out = {cout}')"
   ]
  },
  {
   "cell_type": "markdown",
   "id": "committed-motorcycle",
   "metadata": {
    "slideshow": {
     "slide_type": "subslide"
    }
   },
   "source": [
    "## PRODUCT OF SUMS"
   ]
  },
  {
   "cell_type": "code",
   "execution_count": null,
   "id": "subsequent-hayes",
   "metadata": {
    "slideshow": {
     "slide_type": "subslide"
    }
   },
   "outputs": [],
   "source": [
    "from sympy.logic import POSform\n",
    "from sympy.abc import a,b,c\n",
    "\n",
    "minterms_sum = [1, 2, 4, 7]\n",
    "\n",
    "minterms_cout = [3, 5, 6, 7]\n",
    "\n",
    "sum = POSform([a,b,c],minterms_sum)\n",
    "cout = POSform([a,b,c],minterms_cout)\n",
    "\n",
    "\n",
    "print(f'sum = {sum}')\n",
    "print(f'C_out = {cout}')"
   ]
  },
  {
   "cell_type": "markdown",
   "id": "greater-infrastructure",
   "metadata": {
    "slideshow": {
     "slide_type": "subslide"
    }
   },
   "source": [
    "## Simplifying Logic Expressions"
   ]
  },
  {
   "cell_type": "markdown",
   "id": "final-graphic",
   "metadata": {
    "slideshow": {
     "slide_type": "subslide"
    }
   },
   "source": [
    "$ (A + B ) (A + \\bar B) (\\bar A + B) $"
   ]
  },
  {
   "cell_type": "code",
   "execution_count": null,
   "id": "killing-shirt",
   "metadata": {
    "slideshow": {
     "slide_type": "fragment"
    }
   },
   "outputs": [],
   "source": [
    "from sympy.abc import A,B\n",
    "from sympy.logic import simplify_logic\n",
    "\n",
    "exp = (A | B) & (A | ~B) & (~A |B)\n",
    "\n",
    "simp_exp = simplify_logic(exp)\n",
    "\n",
    "print(simp_exp)"
   ]
  },
  {
   "cell_type": "markdown",
   "id": "still-naples",
   "metadata": {
    "slideshow": {
     "slide_type": "slide"
    }
   },
   "source": [
    "# Plotting graphs"
   ]
  },
  {
   "cell_type": "code",
   "execution_count": null,
   "id": "pending-cambodia",
   "metadata": {
    "slideshow": {
     "slide_type": "subslide"
    }
   },
   "outputs": [],
   "source": [
    "from sympy.abc import x\n",
    "from sympy.plotting import plot\n",
    "\n",
    "plot(x**2)"
   ]
  },
  {
   "cell_type": "markdown",
   "id": "amended-render",
   "metadata": {
    "slideshow": {
     "slide_type": "subslide"
    }
   },
   "source": [
    "### limiting the x axis"
   ]
  },
  {
   "cell_type": "code",
   "execution_count": null,
   "id": "legal-russell",
   "metadata": {
    "slideshow": {
     "slide_type": "fragment"
    }
   },
   "outputs": [],
   "source": [
    "# x axis from -5 to 10\n",
    "\n",
    "plot(x**2, (x,-5,10))"
   ]
  },
  {
   "cell_type": "markdown",
   "id": "smoking-pursuit",
   "metadata": {
    "slideshow": {
     "slide_type": "subslide"
    }
   },
   "source": [
    "## Multiple plots"
   ]
  },
  {
   "cell_type": "code",
   "execution_count": null,
   "id": "tropical-charles",
   "metadata": {
    "slideshow": {
     "slide_type": "fragment"
    }
   },
   "outputs": [],
   "source": [
    "plot(\n",
    "(x**2),\n",
    "(x)\n",
    ")"
   ]
  },
  {
   "cell_type": "markdown",
   "id": "fiscal-dietary",
   "metadata": {
    "slideshow": {
     "slide_type": "subslide"
    }
   },
   "source": [
    "# ?"
   ]
  },
  {
   "cell_type": "markdown",
   "id": "north-royal",
   "metadata": {
    "slideshow": {
     "slide_type": "subslide"
    }
   },
   "source": [
    "#### Sympy doesnot depends on any other library for its basic operations.\n",
    "\n",
    "#### BUT"
   ]
  },
  {
   "cell_type": "markdown",
   "id": "departmental-mumbai",
   "metadata": {
    "slideshow": {
     "slide_type": "subslide"
    }
   },
   "source": [
    "#### To get the BEST out of it we require the dependencies.\n"
   ]
  },
  {
   "cell_type": "markdown",
   "id": "unusual-photographer",
   "metadata": {
    "slideshow": {
     "slide_type": "fragment"
    }
   },
   "source": [
    "\n",
    "plotting the graph in an image format, it takes the help of Matplotlib"
   ]
  },
  {
   "cell_type": "code",
   "execution_count": null,
   "id": "compliant-qualification",
   "metadata": {
    "slideshow": {
     "slide_type": "subslide"
    }
   },
   "outputs": [],
   "source": [
    "# Install the matplotlib\n"
   ]
  },
  {
   "cell_type": "markdown",
   "id": "joint-customs",
   "metadata": {
    "slideshow": {
     "slide_type": "subslide"
    }
   },
   "source": [
    "### Multiple plots with different range of x"
   ]
  },
  {
   "cell_type": "code",
   "execution_count": null,
   "id": "optimum-violence",
   "metadata": {
    "slideshow": {
     "slide_type": "fragment"
    }
   },
   "outputs": [],
   "source": [
    "plot(\n",
    "(x**2, (x,-10, 5)),\n",
    "(x, (x, 5, 5))\n",
    ")"
   ]
  },
  {
   "cell_type": "markdown",
   "id": "statewide-blair",
   "metadata": {
    "slideshow": {
     "slide_type": "slide"
    }
   },
   "source": [
    "# [SymPy Modules](https://docs.sympy.org/latest/modules/index.html)"
   ]
  }
 ],
 "metadata": {
  "kernelspec": {
   "display_name": "Python 3",
   "language": "python",
   "name": "python3"
  },
  "language_info": {
   "codemirror_mode": {
    "name": "ipython",
    "version": 3
   },
   "file_extension": ".py",
   "mimetype": "text/x-python",
   "name": "python",
   "nbconvert_exporter": "python",
   "pygments_lexer": "ipython3",
   "version": "3.8.5"
  },
  "rise": {
   "enable_chalkboard": true,
   "footer": "<h3>AISSMS</h3>",
   "header": "<h1>Skill Disk</h1>",
   "scroll": true,
   "theme": "beige"
  }
 },
 "nbformat": 4,
 "nbformat_minor": 5
}
